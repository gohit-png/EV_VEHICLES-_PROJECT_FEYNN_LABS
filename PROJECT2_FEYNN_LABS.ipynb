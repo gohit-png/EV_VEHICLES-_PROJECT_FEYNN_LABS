{
 "cells": [
  {
   "cell_type": "code",
   "execution_count": 1,
   "id": "02921c8a",
   "metadata": {},
   "outputs": [],
   "source": [
    "import numpy as np\n",
    "import matplotlib.pyplot as plt\n",
    "import pandas as pd"
   ]
  },
  {
   "cell_type": "code",
   "execution_count": 2,
   "id": "347dbfe5",
   "metadata": {},
   "outputs": [
    {
     "name": "stdout",
     "output_type": "stream",
     "text": [
      "[[ 13.99   5.   350.  ]\n",
      " [ 12.49   5.   316.  ]\n",
      " [ 17.74   5.   350.  ]\n",
      " [ 21.99   5.   448.  ]\n",
      " [ 23.79   5.   450.  ]\n",
      " [106.     5.   656.  ]\n",
      " [180.     5.   405.  ]\n",
      " [ 29.15   5.   580.  ]\n",
      " [100.     5.   550.  ]\n",
      " [116.     5.   500.  ]\n",
      " [150.     4.   600.  ]\n",
      " [101.     5.   660.  ]]\n"
     ]
    }
   ],
   "source": [
    "dataset = pd.read_csv('EVIndia.csv')\n",
    "X = dataset.iloc[:, [5, 6, 7]].values\n",
    "print(X)"
   ]
  },
  {
   "cell_type": "code",
   "execution_count": 3,
   "id": "185686d6",
   "metadata": {},
   "outputs": [
    {
     "data": {
      "text/html": [
       "<div>\n",
       "<style scoped>\n",
       "    .dataframe tbody tr th:only-of-type {\n",
       "        vertical-align: middle;\n",
       "    }\n",
       "\n",
       "    .dataframe tbody tr th {\n",
       "        vertical-align: top;\n",
       "    }\n",
       "\n",
       "    .dataframe thead th {\n",
       "        text-align: right;\n",
       "    }\n",
       "</style>\n",
       "<table border=\"1\" class=\"dataframe\">\n",
       "  <thead>\n",
       "    <tr style=\"text-align: right;\">\n",
       "      <th></th>\n",
       "      <th>Car</th>\n",
       "      <th>Style</th>\n",
       "      <th>Range</th>\n",
       "      <th>Transmission</th>\n",
       "      <th>VehicleType</th>\n",
       "      <th>PriceRange</th>\n",
       "      <th>Capacity</th>\n",
       "      <th>BootSpace</th>\n",
       "      <th>BaseModel</th>\n",
       "      <th>TopModel</th>\n",
       "    </tr>\n",
       "  </thead>\n",
       "  <tbody>\n",
       "    <tr>\n",
       "      <th>0</th>\n",
       "      <td>Tata Nexon EV</td>\n",
       "      <td>Compact SUV</td>\n",
       "      <td>312</td>\n",
       "      <td>Automatic</td>\n",
       "      <td>Electric</td>\n",
       "      <td>13.99</td>\n",
       "      <td>5</td>\n",
       "      <td>350</td>\n",
       "      <td>XM</td>\n",
       "      <td>Dark XZ Plus LUX</td>\n",
       "    </tr>\n",
       "    <tr>\n",
       "      <th>1</th>\n",
       "      <td>Tata Tigor EV</td>\n",
       "      <td>Subcompact Sedan</td>\n",
       "      <td>306</td>\n",
       "      <td>Automatic</td>\n",
       "      <td>Electric</td>\n",
       "      <td>12.49</td>\n",
       "      <td>5</td>\n",
       "      <td>316</td>\n",
       "      <td>XE</td>\n",
       "      <td>XZ Plus Dual Tone</td>\n",
       "    </tr>\n",
       "    <tr>\n",
       "      <th>2</th>\n",
       "      <td>Tata Nexon EV Max</td>\n",
       "      <td>Compact SUV</td>\n",
       "      <td>437</td>\n",
       "      <td>Automatic</td>\n",
       "      <td>Electric</td>\n",
       "      <td>17.74</td>\n",
       "      <td>5</td>\n",
       "      <td>350</td>\n",
       "      <td>XZ Plus 3.3 kW</td>\n",
       "      <td>XZ Plus Lux 7.2 kW</td>\n",
       "    </tr>\n",
       "    <tr>\n",
       "      <th>3</th>\n",
       "      <td>MG ZS EV</td>\n",
       "      <td>Compact SUV</td>\n",
       "      <td>419</td>\n",
       "      <td>Automatic</td>\n",
       "      <td>Electric</td>\n",
       "      <td>21.99</td>\n",
       "      <td>5</td>\n",
       "      <td>448</td>\n",
       "      <td>Excite</td>\n",
       "      <td>Exclusive</td>\n",
       "    </tr>\n",
       "    <tr>\n",
       "      <th>4</th>\n",
       "      <td>Hyundai Kona Electric</td>\n",
       "      <td>Compact SUV</td>\n",
       "      <td>452</td>\n",
       "      <td>Automatic</td>\n",
       "      <td>Electric</td>\n",
       "      <td>23.79</td>\n",
       "      <td>5</td>\n",
       "      <td>450</td>\n",
       "      <td>Premium Dual Tone</td>\n",
       "      <td>HSE</td>\n",
       "    </tr>\n",
       "  </tbody>\n",
       "</table>\n",
       "</div>"
      ],
      "text/plain": [
       "                     Car             Style  Range Transmission VehicleType  \\\n",
       "0          Tata Nexon EV       Compact SUV    312    Automatic    Electric   \n",
       "1          Tata Tigor EV  Subcompact Sedan    306    Automatic    Electric   \n",
       "2      Tata Nexon EV Max       Compact SUV    437    Automatic    Electric   \n",
       "3               MG ZS EV       Compact SUV    419    Automatic    Electric   \n",
       "4  Hyundai Kona Electric       Compact SUV    452    Automatic    Electric   \n",
       "\n",
       "   PriceRange  Capacity  BootSpace           BaseModel             TopModel  \n",
       "0       13.99         5        350                 XM     Dark XZ Plus LUX   \n",
       "1       12.49         5        316                 XE    XZ Plus Dual Tone   \n",
       "2       17.74         5        350     XZ Plus 3.3 kW   XZ Plus Lux 7.2 kW   \n",
       "3       21.99         5        448             Excite            Exclusive   \n",
       "4       23.79         5        450  Premium Dual Tone                  HSE   "
      ]
     },
     "execution_count": 3,
     "metadata": {},
     "output_type": "execute_result"
    }
   ],
   "source": [
    "dataset.head(5)"
   ]
  },
  {
   "cell_type": "code",
   "execution_count": 4,
   "id": "e54f93ea",
   "metadata": {},
   "outputs": [
    {
     "data": {
      "text/plain": [
       "Car              object\n",
       "Style            object\n",
       "Range             int64\n",
       "Transmission     object\n",
       "VehicleType      object\n",
       "PriceRange      float64\n",
       "Capacity          int64\n",
       "BootSpace         int64\n",
       "BaseModel        object\n",
       "TopModel         object\n",
       "dtype: object"
      ]
     },
     "execution_count": 4,
     "metadata": {},
     "output_type": "execute_result"
    }
   ],
   "source": [
    "dataset.dtypes"
   ]
  },
  {
   "cell_type": "code",
   "execution_count": 5,
   "id": "93ce5827",
   "metadata": {},
   "outputs": [
    {
     "name": "stdout",
     "output_type": "stream",
     "text": [
      "<class 'pandas.core.frame.DataFrame'>\n",
      "RangeIndex: 12 entries, 0 to 11\n",
      "Data columns (total 10 columns):\n",
      " #   Column        Non-Null Count  Dtype  \n",
      "---  ------        --------------  -----  \n",
      " 0   Car           12 non-null     object \n",
      " 1   Style         12 non-null     object \n",
      " 2   Range         12 non-null     int64  \n",
      " 3   Transmission  12 non-null     object \n",
      " 4   VehicleType   12 non-null     object \n",
      " 5   PriceRange    12 non-null     float64\n",
      " 6   Capacity      12 non-null     int64  \n",
      " 7   BootSpace     12 non-null     int64  \n",
      " 8   BaseModel     12 non-null     object \n",
      " 9   TopModel      12 non-null     object \n",
      "dtypes: float64(1), int64(3), object(6)\n",
      "memory usage: 1.1+ KB\n"
     ]
    }
   ],
   "source": [
    "dataset.info()"
   ]
  },
  {
   "cell_type": "code",
   "execution_count": 6,
   "id": "934227ea",
   "metadata": {},
   "outputs": [
    {
     "data": {
      "image/png": "[encoded data removed]",
      "text/plain": [
       "<Figure size 432x288 with 1 Axes>"
      ]
     },
     "metadata": {
      "needs_background": "light"
     },
     "output_type": "display_data"
    }
   ],
   "source": [
    "from sklearn.cluster import KMeans\n",
    "wcss = []\n",
    "for i in range(1, 11):\n",
    "    kmeans = KMeans(n_clusters = i, init = 'k-means++', random_state = 42)\n",
    "    kmeans.fit(X)\n",
    "    wcss.append(kmeans.inertia_)\n",
    "plt.plot(range(1, 11), wcss)\n",
    "plt.title('The Elbow Method')\n",
    "plt.xlabel('Number of clusters')\n",
    "plt.ylabel('WCSS')\n",
    "plt.show()"
   ]
  },
  {
   "cell_type": "code",
   "execution_count": 7,
   "id": "0b634d61",
   "metadata": {},
   "outputs": [],
   "source": [
    "kmeans = KMeans(n_clusters = 5, init = 'k-means++', random_state = 42)\n",
    "y_kmeans = kmeans.fit_predict(X)"
   ]
  },
  {
   "cell_type": "code",
   "execution_count": 8,
   "id": "ef8eef5e",
   "metadata": {},
   "outputs": [
    {
     "data": {
      "image/png": "[encoded data removed]",
      "text/plain": [
       "<Figure size 432x288 with 1 Axes>"
      ]
     },
     "metadata": {
      "needs_background": "light"
     },
     "output_type": "display_data"
    }
   ],
   "source": [
    "plt.scatter(X[y_kmeans == 0, 0], X[y_kmeans == 0, 1], s = 100, c = 'red', label = 'Cluster 1')\n",
    "plt.scatter(X[y_kmeans == 1, 0], X[y_kmeans == 1, 1], s = 100, c = 'blue', label = 'Cluster 2')\n",
    "plt.scatter(X[y_kmeans == 2, 0], X[y_kmeans == 2, 1], s = 100, c = 'green', label = 'Cluster 3')\n",
    "plt.scatter(X[y_kmeans == 3, 0], X[y_kmeans == 3, 1], s = 100, c = 'cyan', label = 'Cluster 4')\n",
    "plt.scatter(X[y_kmeans == 4, 0], X[y_kmeans == 4, 1], s = 100, c = 'magenta', label = 'Cluster 5')\n",
    "plt.scatter(kmeans.cluster_centers_[:, 0], kmeans.cluster_centers_[:, 1], s = 300, c = 'yellow', label = 'Centroids')\n",
    "plt.title('Clusters of cars')\n",
    "plt.xlabel('Price in lakhs')\n",
    "plt.ylabel('Seater')\n",
    "plt.legend()\n",
    "plt.show()"
   ]
  },
  {
   "cell_type": "markdown",
   "id": "adff0b11",
   "metadata": {},
   "source": [
    "## CONCLUSION"
   ]
  },
  {
   "cell_type": "markdown",
   "id": "0130b7fd",
   "metadata": {},
   "source": [
    "Several measures have been taken to promote the use of EVs in India, including the introduction of financial incentives, tax exemptions, and subsidies for EVs and their components. The government has also launched various schemes such as the Faster Adoption and Manufacturing of (Hybrid &) Electric Vehicles (FAMEehi) India scheme to promote the use of EVs.\n",
    "\n",
    "However, despite the various efforts, the adoption of EVs in India is still at a nascent stage, and the lack of charging infrastructure, high upfront costs, and range anxiety are some of the significant challenges that need to be addressed.\n",
    "\n",
    "In this model we can conclude that most of EV vehicles are 5 seater in India . Commomn price ranges are from 20 to 40 lakhs , then from 1 to 1.25cr and then some are also around 1.75cr and more.\n",
    "\n",
    "Since it is more of a beginning so thats why options are less and prices are too high and more of vehicles are still at testing level.\n",
    "\n",
    "In conclusion, while the future of EVs in India seems promising, a concerted effort from the government, automakers, and other stakeholders is required to address the challenges and accelerate the adoption of EVs in the country."
   ]
  }
 ],
 "metadata": {
  "kernelspec": {
   "display_name": "Python 3 (ipykernel)",
   "language": "python",
   "name": "python3"
  },
  "language_info": {
   "codemirror_mode": {
    "name": "ipython",
    "version": 3
   },
   "file_extension": ".py",
   "mimetype": "text/x-python",
   "name": "python",
   "nbconvert_exporter": "python",
   "pygments_lexer": "ipython3",
   "version": "3.10.0"
  }
 },
 "nbformat": 4,
 "nbformat_minor": 5
}
